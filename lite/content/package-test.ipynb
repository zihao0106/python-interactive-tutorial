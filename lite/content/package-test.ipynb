{
 "cells": [
  {
   "cell_type": "markdown",
   "id": "37035d81",
   "metadata": {},
   "source": [
    "# 📦 Python包测试 - 验证预装环境\n",
    "\n",
    "这个notebook用来测试JupyterLite环境中预装的Python包是否正常工作。"
   ]
  },
  {
   "cell_type": "markdown",
   "id": "c8d69a30",
   "metadata": {},
   "source": [
    "## 1. 导入基础数据处理包"
   ]
  },
  {
   "cell_type": "code",
   "execution_count": null,
   "id": "37906319",
   "metadata": {},
   "outputs": [],
   "source": [
    "# 测试基础包导入\n",
    "import sys\n",
    "print(f\"Python版本: {sys.version}\")\n",
    "print(\"=\" * 50)\n",
    "\n",
    "# 测试numpy\n",
    "try:\n",
    "    import numpy as np\n",
    "    print(f\"✅ NumPy {np.__version__} - 数值计算库\")\n",
    "except ImportError as e:\n",
    "    print(f\"❌ NumPy 导入失败: {e}\")\n",
    "\n",
    "# 测试pandas\n",
    "try:\n",
    "    import pandas as pd\n",
    "    print(f\"✅ Pandas {pd.__version__} - 数据分析库\")\n",
    "except ImportError as e:\n",
    "    print(f\"❌ Pandas 导入失败: {e}\")\n",
    "\n",
    "# 测试matplotlib\n",
    "try:\n",
    "    import matplotlib.pyplot as plt\n",
    "    import matplotlib\n",
    "    print(f\"✅ Matplotlib {matplotlib.__version__} - 绘图库\")\n",
    "except ImportError as e:\n",
    "    print(f\"❌ Matplotlib 导入失败: {e}\")"
   ]
  },
  {
   "cell_type": "markdown",
   "id": "a7949ff8",
   "metadata": {},
   "source": [
    "## 2. 测试Python内置模块"
   ]
  },
  {
   "cell_type": "code",
   "execution_count": null,
   "id": "54262f27",
   "metadata": {},
   "outputs": [],
   "source": [
    "# 测试常用内置模块\n",
    "modules_to_test = [\n",
    "    ('re', '正则表达式'),\n",
    "    ('json', 'JSON处理'),\n",
    "    ('datetime', '日期时间'),\n",
    "    ('math', '数学函数'),\n",
    "    ('random', '随机数'),\n",
    "    ('os', '操作系统接口'),\n",
    "    ('collections', '特殊容器')\n",
    "]\n",
    "\n",
    "print(\"Python内置模块测试:\")\n",
    "print(\"=\" * 50)\n",
    "\n",
    "for module_name, description in modules_to_test:\n",
    "    try:\n",
    "        __import__(module_name)\n",
    "        print(f\"✅ {module_name} - {description}\")\n",
    "    except ImportError as e:\n",
    "        print(f\"❌ {module_name} 导入失败: {e}\")"
   ]
  },
  {
   "cell_type": "markdown",
   "id": "b02d49f5",
   "metadata": {},
   "source": [
    "## 3. 数据处理演示"
   ]
  },
  {
   "cell_type": "code",
   "execution_count": null,
   "id": "773df8b9",
   "metadata": {},
   "outputs": [],
   "source": [
    "# 创建示例数据\n",
    "import numpy as np\n",
    "import pandas as pd\n",
    "import matplotlib.pyplot as plt\n",
    "\n",
    "# 生成示例数据\n",
    "np.random.seed(42)\n",
    "dates = pd.date_range('2024-01-01', periods=100, freq='D')\n",
    "values = np.random.randn(100).cumsum() + 100\n",
    "\n",
    "# 创建DataFrame\n",
    "df = pd.DataFrame({\n",
    "    '日期': dates,\n",
    "    '数值': values,\n",
    "    '分类': np.random.choice(['A', 'B', 'C'], 100)\n",
    "})\n",
    "\n",
    "print(\"📊 示例数据预览:\")\n",
    "print(df.head())\n",
    "print(f\"\\n数据形状: {df.shape}\")\n",
    "print(f\"\\n数据统计:\")\n",
    "print(df.describe())"
   ]
  },
  {
   "cell_type": "markdown",
   "id": "306cd802",
   "metadata": {},
   "source": [
    "## 4. 数据可视化演示"
   ]
  },
  {
   "cell_type": "code",
   "execution_count": null,
   "id": "8f63b60f",
   "metadata": {},
   "outputs": [],
   "source": [
    "# 创建图表\n",
    "plt.figure(figsize=(12, 8))\n",
    "\n",
    "# 第一个子图：时间序列\n",
    "plt.subplot(2, 2, 1)\n",
    "plt.plot(df['日期'], df['数值'], linewidth=2, color='blue')\n",
    "plt.title('📈 时间序列图')\n",
    "plt.xlabel('日期')\n",
    "plt.ylabel('数值')\n",
    "plt.xticks(rotation=45)\n",
    "\n",
    "# 第二个子图：直方图\n",
    "plt.subplot(2, 2, 2)\n",
    "plt.hist(df['数值'], bins=20, alpha=0.7, color='green')\n",
    "plt.title('📊 数值分布直方图')\n",
    "plt.xlabel('数值')\n",
    "plt.ylabel('频次')\n",
    "\n",
    "# 第三个子图：散点图\n",
    "plt.subplot(2, 2, 3)\n",
    "colors = {'A': 'red', 'B': 'blue', 'C': 'green'}\n",
    "for category in df['分类'].unique():\n",
    "    mask = df['分类'] == category\n",
    "    plt.scatter(df[mask].index, df[mask]['数值'], \n",
    "               label=f'类别 {category}', alpha=0.6, color=colors[category])\n",
    "plt.title('🎯 分类散点图')\n",
    "plt.xlabel('索引')\n",
    "plt.ylabel('数值')\n",
    "plt.legend()\n",
    "\n",
    "# 第四个子图：箱线图\n",
    "plt.subplot(2, 2, 4)\n",
    "df.boxplot(column='数值', by='分类', ax=plt.gca())\n",
    "plt.title('📦 分类箱线图')\n",
    "plt.suptitle('')  # 移除自动标题\n",
    "\n",
    "plt.tight_layout()\n",
    "plt.show()\n",
    "\n",
    "print(\"🎉 数据可视化完成！\")"
   ]
  },
  {
   "cell_type": "markdown",
   "id": "2d0a1e3e",
   "metadata": {},
   "source": [
    "## 5. 正则表达式测试"
   ]
  },
  {
   "cell_type": "code",
   "execution_count": null,
   "id": "dbf4468e",
   "metadata": {},
   "outputs": [],
   "source": [
    "import re\n",
    "\n",
    "# 测试文本\n",
    "text = \"\"\"\n",
    "联系方式：\n",
    "邮箱：zhang_san@example.com, li.si@company.cn\n",
    "电话：138-0000-1234, 021-12345678\n",
    "网址：https://www.python.org, http://jupyter.org\n",
    "\"\"\"\n",
    "\n",
    "print(\"🔍 正则表达式测试:\")\n",
    "print(\"=\" * 50)\n",
    "\n",
    "# 提取邮箱\n",
    "emails = re.findall(r'\\b[A-Za-z0-9._%+-]+@[A-Za-z0-9.-]+\\.[A-Z|a-z]{2,}\\b', text)\n",
    "print(f\"📧 找到的邮箱: {emails}\")\n",
    "\n",
    "# 提取电话号码\n",
    "phones = re.findall(r'\\b(?:\\d{3}-\\d{4}-\\d{4}|\\d{3,4}-\\d{7,8})\\b', text)\n",
    "print(f\"📱 找到的电话: {phones}\")\n",
    "\n",
    "# 提取网址\n",
    "urls = re.findall(r'https?://[^\\s]+', text)\n",
    "print(f\"🔗 找到的网址: {urls}\")\n",
    "\n",
    "print(\"\\n✅ 正则表达式功能正常！\")"
   ]
  },
  {
   "cell_type": "markdown",
   "id": "241e13d1",
   "metadata": {},
   "source": [
    "## 📋 测试结果总结\n",
    "\n",
    "如果所有测试都通过，说明JupyterLite环境已经正确配置了以下功能：\n",
    "\n",
    "- ✅ **NumPy** - 高性能数值计算\n",
    "- ✅ **Pandas** - 数据分析和处理\n",
    "- ✅ **Matplotlib** - 数据可视化\n",
    "- ✅ **正则表达式** - 文本处理\n",
    "- ✅ **Python内置模块** - 完整的标准库支持\n",
    "\n",
    "你现在可以在这个环境中进行完整的Python数据科学工作！"
   ]
  }
 ],
 "metadata": {
  "language_info": {
   "name": "python"
  }
 },
 "nbformat": 4,
 "nbformat_minor": 5
}
